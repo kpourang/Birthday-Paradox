{
 "cells": [
  {
   "cell_type": "markdown",
   "metadata": {},
   "source": [
    "<p>How would you answer the following questions:</p>\n",
    "<ul>\n",
    "    <li>In a classroom of 23 students, what is the probability of 2 of them share the same birthday (day and month)? </li>\n",
    "    <li>What about a classroom of 40 students?</li>\n",
    "</ul>\n",
    "\n",
    "<p>The answers are 50% and roughly 90%, respectively.</p>\n",
    "<p>How is that possible? It is strange, counter-intuitive, and completely true, but the birthday problem (birthday paradox) is a thing. It's only a \"paradox\" because our brains can't handle the compounding power of exponents.\n",
    "We expect probabilities to be linear and only consider the scenarios we're involved in (both faulty assumptions). But the comparison is made pair-wise. And there are a lot of comparisons in samples like that.</p>\n",
    "\n",
    "<p>Let's use the birthdates of Rio 2016 Olympics’ athletes to randomly select our sample and prove the converging probabilities with different sample sizes.</p>"
   ]
  },
  {
   "cell_type": "code",
   "execution_count": 1,
   "metadata": {},
   "outputs": [],
   "source": [
    "import pandas as pd\n",
    "import warnings\n",
    "warnings.filterwarnings('ignore')"
   ]
  },
  {
   "cell_type": "markdown",
   "metadata": {},
   "source": [
    "## 1) Load the dataset. Convert the column dob (date of birthday) to the correct date data type."
   ]
  },
  {
   "cell_type": "code",
   "execution_count": 2,
   "metadata": {},
   "outputs": [
    {
     "data": {
      "text/html": [
       "<div>\n",
       "<style scoped>\n",
       "    .dataframe tbody tr th:only-of-type {\n",
       "        vertical-align: middle;\n",
       "    }\n",
       "\n",
       "    .dataframe tbody tr th {\n",
       "        vertical-align: top;\n",
       "    }\n",
       "\n",
       "    .dataframe thead th {\n",
       "        text-align: right;\n",
       "    }\n",
       "</style>\n",
       "<table border=\"1\" class=\"dataframe\">\n",
       "  <thead>\n",
       "    <tr style=\"text-align: right;\">\n",
       "      <th></th>\n",
       "      <th>id</th>\n",
       "      <th>name</th>\n",
       "      <th>nationality</th>\n",
       "      <th>sex</th>\n",
       "      <th>dob</th>\n",
       "      <th>height</th>\n",
       "      <th>weight</th>\n",
       "      <th>sport</th>\n",
       "      <th>gold</th>\n",
       "      <th>silver</th>\n",
       "      <th>bronze</th>\n",
       "    </tr>\n",
       "  </thead>\n",
       "  <tbody>\n",
       "    <tr>\n",
       "      <th>0</th>\n",
       "      <td>736041664</td>\n",
       "      <td>A Jesus Garcia</td>\n",
       "      <td>ESP</td>\n",
       "      <td>male</td>\n",
       "      <td>10/17/69</td>\n",
       "      <td>1.72</td>\n",
       "      <td>64.0</td>\n",
       "      <td>athletics</td>\n",
       "      <td>0</td>\n",
       "      <td>0</td>\n",
       "      <td>0</td>\n",
       "    </tr>\n",
       "    <tr>\n",
       "      <th>1</th>\n",
       "      <td>532037425</td>\n",
       "      <td>A Lam Shin</td>\n",
       "      <td>KOR</td>\n",
       "      <td>female</td>\n",
       "      <td>9/23/86</td>\n",
       "      <td>1.68</td>\n",
       "      <td>56.0</td>\n",
       "      <td>fencing</td>\n",
       "      <td>0</td>\n",
       "      <td>0</td>\n",
       "      <td>0</td>\n",
       "    </tr>\n",
       "    <tr>\n",
       "      <th>2</th>\n",
       "      <td>435962603</td>\n",
       "      <td>Aaron Brown</td>\n",
       "      <td>CAN</td>\n",
       "      <td>male</td>\n",
       "      <td>5/27/92</td>\n",
       "      <td>1.98</td>\n",
       "      <td>79.0</td>\n",
       "      <td>athletics</td>\n",
       "      <td>0</td>\n",
       "      <td>0</td>\n",
       "      <td>1</td>\n",
       "    </tr>\n",
       "    <tr>\n",
       "      <th>3</th>\n",
       "      <td>521041435</td>\n",
       "      <td>Aaron Cook</td>\n",
       "      <td>MDA</td>\n",
       "      <td>male</td>\n",
       "      <td>1/2/91</td>\n",
       "      <td>1.83</td>\n",
       "      <td>80.0</td>\n",
       "      <td>taekwondo</td>\n",
       "      <td>0</td>\n",
       "      <td>0</td>\n",
       "      <td>0</td>\n",
       "    </tr>\n",
       "    <tr>\n",
       "      <th>4</th>\n",
       "      <td>33922579</td>\n",
       "      <td>Aaron Gate</td>\n",
       "      <td>NZL</td>\n",
       "      <td>male</td>\n",
       "      <td>11/26/90</td>\n",
       "      <td>1.81</td>\n",
       "      <td>71.0</td>\n",
       "      <td>cycling</td>\n",
       "      <td>0</td>\n",
       "      <td>0</td>\n",
       "      <td>0</td>\n",
       "    </tr>\n",
       "  </tbody>\n",
       "</table>\n",
       "</div>"
      ],
      "text/plain": [
       "          id            name nationality     sex       dob  height  weight  \\\n",
       "0  736041664  A Jesus Garcia         ESP    male  10/17/69    1.72    64.0   \n",
       "1  532037425      A Lam Shin         KOR  female   9/23/86    1.68    56.0   \n",
       "2  435962603     Aaron Brown         CAN    male   5/27/92    1.98    79.0   \n",
       "3  521041435      Aaron Cook         MDA    male    1/2/91    1.83    80.0   \n",
       "4   33922579      Aaron Gate         NZL    male  11/26/90    1.81    71.0   \n",
       "\n",
       "       sport  gold  silver  bronze  \n",
       "0  athletics     0       0       0  \n",
       "1    fencing     0       0       0  \n",
       "2  athletics     0       0       1  \n",
       "3  taekwondo     0       0       0  \n",
       "4    cycling     0       0       0  "
      ]
     },
     "execution_count": 2,
     "metadata": {},
     "output_type": "execute_result"
    }
   ],
   "source": [
    "athletes = pd.read_csv('athletes.csv')\n",
    "athletes.head()"
   ]
  },
  {
   "cell_type": "code",
   "execution_count": 4,
   "metadata": {},
   "outputs": [
    {
     "data": {
      "text/plain": [
       "id               int64\n",
       "name            object\n",
       "nationality     object\n",
       "sex             object\n",
       "dob             object\n",
       "height         float64\n",
       "weight         float64\n",
       "sport           object\n",
       "gold             int64\n",
       "silver           int64\n",
       "bronze           int64\n",
       "dtype: object"
      ]
     },
     "execution_count": 4,
     "metadata": {},
     "output_type": "execute_result"
    }
   ],
   "source": [
    "athletes.dtypes"
   ]
  },
  {
   "cell_type": "code",
   "execution_count": 6,
   "metadata": {},
   "outputs": [],
   "source": [
    "athletes['birthday'] = pd.to_datetime(athletes['dob'], format = '%m/%d/%y', errors = 'ignore')"
   ]
  },
  {
   "cell_type": "code",
   "execution_count": 7,
   "metadata": {},
   "outputs": [
    {
     "data": {
      "text/plain": [
       "id                      int64\n",
       "name                   object\n",
       "nationality            object\n",
       "sex                    object\n",
       "dob                    object\n",
       "height                float64\n",
       "weight                float64\n",
       "sport                  object\n",
       "gold                    int64\n",
       "silver                  int64\n",
       "bronze                  int64\n",
       "birthday       datetime64[ns]\n",
       "dtype: object"
      ]
     },
     "execution_count": 7,
     "metadata": {},
     "output_type": "execute_result"
    }
   ],
   "source": [
    "athletes.dtypes"
   ]
  },
  {
   "cell_type": "code",
   "execution_count": 8,
   "metadata": {},
   "outputs": [],
   "source": [
    "athletes = athletes[~athletes['birthday'].isnull()]"
   ]
  },
  {
   "cell_type": "markdown",
   "metadata": {},
   "source": [
    "## 2) Build a function called sample() that receives a number representing the sample size and returns the sample dataset."
   ]
  },
  {
   "cell_type": "code",
   "execution_count": 9,
   "metadata": {},
   "outputs": [],
   "source": [
    "def sample(sample_size):\n",
    "    return athletes.sample(sample_size).reset_index()"
   ]
  },
  {
   "cell_type": "code",
   "execution_count": 10,
   "metadata": {},
   "outputs": [
    {
     "data": {
      "text/html": [
       "<div>\n",
       "<style scoped>\n",
       "    .dataframe tbody tr th:only-of-type {\n",
       "        vertical-align: middle;\n",
       "    }\n",
       "\n",
       "    .dataframe tbody tr th {\n",
       "        vertical-align: top;\n",
       "    }\n",
       "\n",
       "    .dataframe thead th {\n",
       "        text-align: right;\n",
       "    }\n",
       "</style>\n",
       "<table border=\"1\" class=\"dataframe\">\n",
       "  <thead>\n",
       "    <tr style=\"text-align: right;\">\n",
       "      <th></th>\n",
       "      <th>index</th>\n",
       "      <th>id</th>\n",
       "      <th>name</th>\n",
       "      <th>nationality</th>\n",
       "      <th>sex</th>\n",
       "      <th>dob</th>\n",
       "      <th>height</th>\n",
       "      <th>weight</th>\n",
       "      <th>sport</th>\n",
       "      <th>gold</th>\n",
       "      <th>silver</th>\n",
       "      <th>bronze</th>\n",
       "      <th>birthday</th>\n",
       "    </tr>\n",
       "  </thead>\n",
       "  <tbody>\n",
       "    <tr>\n",
       "      <th>0</th>\n",
       "      <td>61</td>\n",
       "      <td>841446548</td>\n",
       "      <td>Abdulrazzaq Murad</td>\n",
       "      <td>QAT</td>\n",
       "      <td>male</td>\n",
       "      <td>6/29/90</td>\n",
       "      <td>1.86</td>\n",
       "      <td>77.0</td>\n",
       "      <td>handball</td>\n",
       "      <td>0</td>\n",
       "      <td>0</td>\n",
       "      <td>0</td>\n",
       "      <td>1990-06-29</td>\n",
       "    </tr>\n",
       "    <tr>\n",
       "      <th>1</th>\n",
       "      <td>2446</td>\n",
       "      <td>83570795</td>\n",
       "      <td>David Andersen</td>\n",
       "      <td>AUS</td>\n",
       "      <td>male</td>\n",
       "      <td>6/23/80</td>\n",
       "      <td>2.10</td>\n",
       "      <td>102.0</td>\n",
       "      <td>basketball</td>\n",
       "      <td>0</td>\n",
       "      <td>0</td>\n",
       "      <td>0</td>\n",
       "      <td>1980-06-23</td>\n",
       "    </tr>\n",
       "    <tr>\n",
       "      <th>2</th>\n",
       "      <td>1181</td>\n",
       "      <td>718103063</td>\n",
       "      <td>Asena Rokomarama</td>\n",
       "      <td>FIJ</td>\n",
       "      <td>female</td>\n",
       "      <td>5/2/96</td>\n",
       "      <td>1.60</td>\n",
       "      <td>58.0</td>\n",
       "      <td>rugby sevens</td>\n",
       "      <td>0</td>\n",
       "      <td>0</td>\n",
       "      <td>0</td>\n",
       "      <td>1996-05-02</td>\n",
       "    </tr>\n",
       "    <tr>\n",
       "      <th>3</th>\n",
       "      <td>8676</td>\n",
       "      <td>784201731</td>\n",
       "      <td>Phuoc Hoang</td>\n",
       "      <td>VIE</td>\n",
       "      <td>male</td>\n",
       "      <td>3/24/93</td>\n",
       "      <td>1.80</td>\n",
       "      <td>75.0</td>\n",
       "      <td>aquatics</td>\n",
       "      <td>0</td>\n",
       "      <td>0</td>\n",
       "      <td>0</td>\n",
       "      <td>1993-03-24</td>\n",
       "    </tr>\n",
       "    <tr>\n",
       "      <th>4</th>\n",
       "      <td>3047</td>\n",
       "      <td>717137601</td>\n",
       "      <td>Emma Larsson</td>\n",
       "      <td>SWE</td>\n",
       "      <td>female</td>\n",
       "      <td>11/15/98</td>\n",
       "      <td>1.47</td>\n",
       "      <td>40.0</td>\n",
       "      <td>gymnastics</td>\n",
       "      <td>0</td>\n",
       "      <td>0</td>\n",
       "      <td>0</td>\n",
       "      <td>1998-11-15</td>\n",
       "    </tr>\n",
       "    <tr>\n",
       "      <th>5</th>\n",
       "      <td>7484</td>\n",
       "      <td>430176512</td>\n",
       "      <td>Miguel Tabuena</td>\n",
       "      <td>PHI</td>\n",
       "      <td>male</td>\n",
       "      <td>10/13/94</td>\n",
       "      <td>1.74</td>\n",
       "      <td>66.0</td>\n",
       "      <td>golf</td>\n",
       "      <td>0</td>\n",
       "      <td>0</td>\n",
       "      <td>0</td>\n",
       "      <td>1994-10-13</td>\n",
       "    </tr>\n",
       "    <tr>\n",
       "      <th>6</th>\n",
       "      <td>1298</td>\n",
       "      <td>316544316</td>\n",
       "      <td>Baboloki Thebe</td>\n",
       "      <td>BOT</td>\n",
       "      <td>male</td>\n",
       "      <td>3/18/97</td>\n",
       "      <td>NaN</td>\n",
       "      <td>NaN</td>\n",
       "      <td>athletics</td>\n",
       "      <td>0</td>\n",
       "      <td>0</td>\n",
       "      <td>0</td>\n",
       "      <td>1997-03-18</td>\n",
       "    </tr>\n",
       "    <tr>\n",
       "      <th>7</th>\n",
       "      <td>1044</td>\n",
       "      <td>620488948</td>\n",
       "      <td>Anton Kosmac</td>\n",
       "      <td>SLO</td>\n",
       "      <td>male</td>\n",
       "      <td>12/14/76</td>\n",
       "      <td>1.83</td>\n",
       "      <td>66.0</td>\n",
       "      <td>athletics</td>\n",
       "      <td>0</td>\n",
       "      <td>0</td>\n",
       "      <td>0</td>\n",
       "      <td>1976-12-14</td>\n",
       "    </tr>\n",
       "    <tr>\n",
       "      <th>8</th>\n",
       "      <td>5587</td>\n",
       "      <td>250885863</td>\n",
       "      <td>Kayra Sayit</td>\n",
       "      <td>TUR</td>\n",
       "      <td>female</td>\n",
       "      <td>2/13/88</td>\n",
       "      <td>1.65</td>\n",
       "      <td>90.0</td>\n",
       "      <td>judo</td>\n",
       "      <td>0</td>\n",
       "      <td>0</td>\n",
       "      <td>0</td>\n",
       "      <td>1988-02-13</td>\n",
       "    </tr>\n",
       "    <tr>\n",
       "      <th>9</th>\n",
       "      <td>1291</td>\n",
       "      <td>682854309</td>\n",
       "      <td>Aziz Ouhadi</td>\n",
       "      <td>MAR</td>\n",
       "      <td>male</td>\n",
       "      <td>7/24/84</td>\n",
       "      <td>1.68</td>\n",
       "      <td>72.0</td>\n",
       "      <td>athletics</td>\n",
       "      <td>0</td>\n",
       "      <td>0</td>\n",
       "      <td>0</td>\n",
       "      <td>1984-07-24</td>\n",
       "    </tr>\n",
       "    <tr>\n",
       "      <th>10</th>\n",
       "      <td>8108</td>\n",
       "      <td>440246912</td>\n",
       "      <td>Nikola Girke</td>\n",
       "      <td>CAN</td>\n",
       "      <td>female</td>\n",
       "      <td>12/30/77</td>\n",
       "      <td>1.78</td>\n",
       "      <td>65.0</td>\n",
       "      <td>sailing</td>\n",
       "      <td>0</td>\n",
       "      <td>0</td>\n",
       "      <td>0</td>\n",
       "      <td>1977-12-30</td>\n",
       "    </tr>\n",
       "    <tr>\n",
       "      <th>11</th>\n",
       "      <td>7143</td>\n",
       "      <td>370742926</td>\n",
       "      <td>Mathew Belcher</td>\n",
       "      <td>AUS</td>\n",
       "      <td>male</td>\n",
       "      <td>9/20/82</td>\n",
       "      <td>1.73</td>\n",
       "      <td>62.0</td>\n",
       "      <td>sailing</td>\n",
       "      <td>0</td>\n",
       "      <td>1</td>\n",
       "      <td>0</td>\n",
       "      <td>1982-09-20</td>\n",
       "    </tr>\n",
       "    <tr>\n",
       "      <th>12</th>\n",
       "      <td>456</td>\n",
       "      <td>233231940</td>\n",
       "      <td>Alhussein Gambour</td>\n",
       "      <td>LBA</td>\n",
       "      <td>male</td>\n",
       "      <td>8/21/89</td>\n",
       "      <td>1.75</td>\n",
       "      <td>68.0</td>\n",
       "      <td>rowing</td>\n",
       "      <td>0</td>\n",
       "      <td>0</td>\n",
       "      <td>0</td>\n",
       "      <td>1989-08-21</td>\n",
       "    </tr>\n",
       "    <tr>\n",
       "      <th>13</th>\n",
       "      <td>8291</td>\n",
       "      <td>903316415</td>\n",
       "      <td>Olivera Moldovan</td>\n",
       "      <td>SRB</td>\n",
       "      <td>female</td>\n",
       "      <td>3/1/89</td>\n",
       "      <td>1.58</td>\n",
       "      <td>62.0</td>\n",
       "      <td>canoe</td>\n",
       "      <td>0</td>\n",
       "      <td>0</td>\n",
       "      <td>0</td>\n",
       "      <td>1989-03-01</td>\n",
       "    </tr>\n",
       "    <tr>\n",
       "      <th>14</th>\n",
       "      <td>908</td>\n",
       "      <td>54089758</td>\n",
       "      <td>Anilda Thomas</td>\n",
       "      <td>IND</td>\n",
       "      <td>female</td>\n",
       "      <td>5/6/93</td>\n",
       "      <td>NaN</td>\n",
       "      <td>NaN</td>\n",
       "      <td>athletics</td>\n",
       "      <td>0</td>\n",
       "      <td>0</td>\n",
       "      <td>0</td>\n",
       "      <td>1993-05-06</td>\n",
       "    </tr>\n",
       "    <tr>\n",
       "      <th>15</th>\n",
       "      <td>11484</td>\n",
       "      <td>123124501</td>\n",
       "      <td>Zhiwei Deng</td>\n",
       "      <td>CHN</td>\n",
       "      <td>male</td>\n",
       "      <td>2/1/88</td>\n",
       "      <td>1.88</td>\n",
       "      <td>120.0</td>\n",
       "      <td>wrestling</td>\n",
       "      <td>0</td>\n",
       "      <td>0</td>\n",
       "      <td>0</td>\n",
       "      <td>1988-02-01</td>\n",
       "    </tr>\n",
       "    <tr>\n",
       "      <th>16</th>\n",
       "      <td>10584</td>\n",
       "      <td>211819667</td>\n",
       "      <td>Tommy Sugiarto</td>\n",
       "      <td>INA</td>\n",
       "      <td>male</td>\n",
       "      <td>5/31/88</td>\n",
       "      <td>1.75</td>\n",
       "      <td>71.0</td>\n",
       "      <td>badminton</td>\n",
       "      <td>0</td>\n",
       "      <td>0</td>\n",
       "      <td>0</td>\n",
       "      <td>1988-05-31</td>\n",
       "    </tr>\n",
       "    <tr>\n",
       "      <th>17</th>\n",
       "      <td>10906</td>\n",
       "      <td>696988201</td>\n",
       "      <td>Vjekoslav Paskovic</td>\n",
       "      <td>MNE</td>\n",
       "      <td>male</td>\n",
       "      <td>3/23/85</td>\n",
       "      <td>1.80</td>\n",
       "      <td>86.0</td>\n",
       "      <td>aquatics</td>\n",
       "      <td>0</td>\n",
       "      <td>0</td>\n",
       "      <td>0</td>\n",
       "      <td>1985-03-23</td>\n",
       "    </tr>\n",
       "    <tr>\n",
       "      <th>18</th>\n",
       "      <td>4110</td>\n",
       "      <td>144358597</td>\n",
       "      <td>Hilary Caldwell</td>\n",
       "      <td>CAN</td>\n",
       "      <td>female</td>\n",
       "      <td>3/13/91</td>\n",
       "      <td>1.73</td>\n",
       "      <td>61.0</td>\n",
       "      <td>aquatics</td>\n",
       "      <td>0</td>\n",
       "      <td>0</td>\n",
       "      <td>1</td>\n",
       "      <td>1991-03-13</td>\n",
       "    </tr>\n",
       "    <tr>\n",
       "      <th>19</th>\n",
       "      <td>6325</td>\n",
       "      <td>544547565</td>\n",
       "      <td>Louise Bawden</td>\n",
       "      <td>AUS</td>\n",
       "      <td>female</td>\n",
       "      <td>8/7/81</td>\n",
       "      <td>1.83</td>\n",
       "      <td>72.0</td>\n",
       "      <td>volleyball</td>\n",
       "      <td>0</td>\n",
       "      <td>0</td>\n",
       "      <td>0</td>\n",
       "      <td>1981-08-07</td>\n",
       "    </tr>\n",
       "    <tr>\n",
       "      <th>20</th>\n",
       "      <td>11265</td>\n",
       "      <td>512633616</td>\n",
       "      <td>Yohann Diniz</td>\n",
       "      <td>FRA</td>\n",
       "      <td>male</td>\n",
       "      <td>1/1/78</td>\n",
       "      <td>1.85</td>\n",
       "      <td>66.0</td>\n",
       "      <td>athletics</td>\n",
       "      <td>0</td>\n",
       "      <td>0</td>\n",
       "      <td>0</td>\n",
       "      <td>1978-01-01</td>\n",
       "    </tr>\n",
       "    <tr>\n",
       "      <th>21</th>\n",
       "      <td>5660</td>\n",
       "      <td>907808928</td>\n",
       "      <td>Kent Farrington</td>\n",
       "      <td>USA</td>\n",
       "      <td>male</td>\n",
       "      <td>12/28/80</td>\n",
       "      <td>1.73</td>\n",
       "      <td>65.0</td>\n",
       "      <td>equestrian</td>\n",
       "      <td>0</td>\n",
       "      <td>1</td>\n",
       "      <td>0</td>\n",
       "      <td>1980-12-28</td>\n",
       "    </tr>\n",
       "    <tr>\n",
       "      <th>22</th>\n",
       "      <td>2953</td>\n",
       "      <td>800526632</td>\n",
       "      <td>Elizabeth Gunson</td>\n",
       "      <td>NZL</td>\n",
       "      <td>female</td>\n",
       "      <td>7/9/89</td>\n",
       "      <td>1.62</td>\n",
       "      <td>62.0</td>\n",
       "      <td>hockey</td>\n",
       "      <td>0</td>\n",
       "      <td>0</td>\n",
       "      <td>0</td>\n",
       "      <td>1989-07-09</td>\n",
       "    </tr>\n",
       "  </tbody>\n",
       "</table>\n",
       "</div>"
      ],
      "text/plain": [
       "    index         id                name nationality     sex       dob  \\\n",
       "0      61  841446548   Abdulrazzaq Murad         QAT    male   6/29/90   \n",
       "1    2446   83570795      David Andersen         AUS    male   6/23/80   \n",
       "2    1181  718103063    Asena Rokomarama         FIJ  female    5/2/96   \n",
       "3    8676  784201731         Phuoc Hoang         VIE    male   3/24/93   \n",
       "4    3047  717137601        Emma Larsson         SWE  female  11/15/98   \n",
       "5    7484  430176512      Miguel Tabuena         PHI    male  10/13/94   \n",
       "6    1298  316544316      Baboloki Thebe         BOT    male   3/18/97   \n",
       "7    1044  620488948        Anton Kosmac         SLO    male  12/14/76   \n",
       "8    5587  250885863         Kayra Sayit         TUR  female   2/13/88   \n",
       "9    1291  682854309         Aziz Ouhadi         MAR    male   7/24/84   \n",
       "10   8108  440246912        Nikola Girke         CAN  female  12/30/77   \n",
       "11   7143  370742926      Mathew Belcher         AUS    male   9/20/82   \n",
       "12    456  233231940   Alhussein Gambour         LBA    male   8/21/89   \n",
       "13   8291  903316415    Olivera Moldovan         SRB  female    3/1/89   \n",
       "14    908   54089758       Anilda Thomas         IND  female    5/6/93   \n",
       "15  11484  123124501         Zhiwei Deng         CHN    male    2/1/88   \n",
       "16  10584  211819667      Tommy Sugiarto         INA    male   5/31/88   \n",
       "17  10906  696988201  Vjekoslav Paskovic         MNE    male   3/23/85   \n",
       "18   4110  144358597     Hilary Caldwell         CAN  female   3/13/91   \n",
       "19   6325  544547565       Louise Bawden         AUS  female    8/7/81   \n",
       "20  11265  512633616        Yohann Diniz         FRA    male    1/1/78   \n",
       "21   5660  907808928     Kent Farrington         USA    male  12/28/80   \n",
       "22   2953  800526632    Elizabeth Gunson         NZL  female    7/9/89   \n",
       "\n",
       "    height  weight         sport  gold  silver  bronze   birthday  \n",
       "0     1.86    77.0      handball     0       0       0 1990-06-29  \n",
       "1     2.10   102.0    basketball     0       0       0 1980-06-23  \n",
       "2     1.60    58.0  rugby sevens     0       0       0 1996-05-02  \n",
       "3     1.80    75.0      aquatics     0       0       0 1993-03-24  \n",
       "4     1.47    40.0    gymnastics     0       0       0 1998-11-15  \n",
       "5     1.74    66.0          golf     0       0       0 1994-10-13  \n",
       "6      NaN     NaN     athletics     0       0       0 1997-03-18  \n",
       "7     1.83    66.0     athletics     0       0       0 1976-12-14  \n",
       "8     1.65    90.0          judo     0       0       0 1988-02-13  \n",
       "9     1.68    72.0     athletics     0       0       0 1984-07-24  \n",
       "10    1.78    65.0       sailing     0       0       0 1977-12-30  \n",
       "11    1.73    62.0       sailing     0       1       0 1982-09-20  \n",
       "12    1.75    68.0        rowing     0       0       0 1989-08-21  \n",
       "13    1.58    62.0         canoe     0       0       0 1989-03-01  \n",
       "14     NaN     NaN     athletics     0       0       0 1993-05-06  \n",
       "15    1.88   120.0     wrestling     0       0       0 1988-02-01  \n",
       "16    1.75    71.0     badminton     0       0       0 1988-05-31  \n",
       "17    1.80    86.0      aquatics     0       0       0 1985-03-23  \n",
       "18    1.73    61.0      aquatics     0       0       1 1991-03-13  \n",
       "19    1.83    72.0    volleyball     0       0       0 1981-08-07  \n",
       "20    1.85    66.0     athletics     0       0       0 1978-01-01  \n",
       "21    1.73    65.0    equestrian     0       1       0 1980-12-28  \n",
       "22    1.62    62.0        hockey     0       0       0 1989-07-09  "
      ]
     },
     "execution_count": 10,
     "metadata": {},
     "output_type": "execute_result"
    }
   ],
   "source": [
    "x = sample(23)\n",
    "x"
   ]
  },
  {
   "cell_type": "markdown",
   "metadata": {},
   "source": [
    "## 3) Build a function called isSameMonthDay() that receives two birth dates and compare of them have the same day and month or not."
   ]
  },
  {
   "cell_type": "code",
   "execution_count": 11,
   "metadata": {},
   "outputs": [],
   "source": [
    "def isSameMonthDay(date1, date2):\n",
    "    if str(date1.month) + '-' + str(date1.day) == str(date2.month) + '-' + str(date2.day):\n",
    "        return True\n",
    "    else:\n",
    "        return False"
   ]
  },
  {
   "cell_type": "code",
   "execution_count": 18,
   "metadata": {},
   "outputs": [
    {
     "data": {
      "text/plain": [
       "False"
      ]
     },
     "execution_count": 18,
     "metadata": {},
     "output_type": "execute_result"
    }
   ],
   "source": [
    "d1 = x.birthday[x.id == 907808928][21]\n",
    "d2 = x.birthday[x.id == 800526632][22]\n",
    "isSameMonthDay(d1, d2)"
   ]
  },
  {
   "cell_type": "markdown",
   "metadata": {},
   "source": [
    "## 4) Build a function called oneRound() that receives a sample dataset, combines every possible pairs and returns True if at least one of the pair of athletes share the same day and month of birth."
   ]
  },
  {
   "cell_type": "code",
   "execution_count": 19,
   "metadata": {},
   "outputs": [],
   "source": [
    "def oneRound(df_sample):\n",
    "    match_count = 0\n",
    "    for i in range(len(df_sample)):\n",
    "        for j in range(len(df_sample)):\n",
    "            if i != j:\n",
    "                if isSameMonthDay(df_sample.iloc[i].birthday, df_sample.iloc[j].birthday):\n",
    "                    match_count += 1\n",
    "    if match_count > 0:\n",
    "        return True\n",
    "    else:\n",
    "        return False"
   ]
  },
  {
   "cell_type": "code",
   "execution_count": 20,
   "metadata": {},
   "outputs": [
    {
     "data": {
      "text/plain": [
       "False"
      ]
     },
     "execution_count": 20,
     "metadata": {},
     "output_type": "execute_result"
    }
   ],
   "source": [
    "oneRound(x)"
   ]
  },
  {
   "cell_type": "code",
   "execution_count": 21,
   "metadata": {},
   "outputs": [
    {
     "data": {
      "text/plain": [
       "True"
      ]
     },
     "execution_count": 21,
     "metadata": {},
     "output_type": "execute_result"
    }
   ],
   "source": [
    "x = sample(60)\n",
    "oneRound(x)"
   ]
  },
  {
   "cell_type": "markdown",
   "metadata": {},
   "source": [
    "## 5) Build a function called trial() that receives the number of trials and sample size, iterate over the number of trials sampling (sample), comparing(oneRound and isSameMonthDay) and print the percentage of times that we find shared birthdates."
   ]
  },
  {
   "cell_type": "code",
   "execution_count": 23,
   "metadata": {},
   "outputs": [],
   "source": [
    "def trial(number_of_trials, sample_size):\n",
    "    count = 0\n",
    "    for i in range(number_of_trials):\n",
    "        df = sample(sample_size)\n",
    "        if oneRound(df):\n",
    "            count += 1\n",
    "    print('with sample size of {} in {} trials, the probability of same birthdates is {}%.'.format(sample_size, number_of_trials, count / number_of_trials * 100))"
   ]
  },
  {
   "cell_type": "markdown",
   "metadata": {},
   "source": [
    "## 6) Run the trial function with 100 trials and:"
   ]
  },
  {
   "cell_type": "markdown",
   "metadata": {},
   "source": [
    "### a) sample size of 23. You should expect to find shared birthdates 50% of the times. "
   ]
  },
  {
   "cell_type": "code",
   "execution_count": 24,
   "metadata": {},
   "outputs": [
    {
     "name": "stdout",
     "output_type": "stream",
     "text": [
      "with sample size of 23 in 100 trials, the probability of same birthdates is 44.0%.\n"
     ]
    }
   ],
   "source": [
    "trial(100, 23)"
   ]
  },
  {
   "cell_type": "markdown",
   "metadata": {},
   "source": [
    "### b) sample size of 30. You should expect to find shared birthdates 70% of the times. "
   ]
  },
  {
   "cell_type": "code",
   "execution_count": 25,
   "metadata": {},
   "outputs": [
    {
     "name": "stdout",
     "output_type": "stream",
     "text": [
      "with sample size of 30 in 100 trials, the probability of same birthdates is 67.0%.\n"
     ]
    }
   ],
   "source": [
    "trial(100, 30)"
   ]
  },
  {
   "cell_type": "markdown",
   "metadata": {},
   "source": [
    "### c) sample size of 40. You should expect to find shared birthdates 89% of the times. "
   ]
  },
  {
   "cell_type": "code",
   "execution_count": 26,
   "metadata": {},
   "outputs": [
    {
     "name": "stdout",
     "output_type": "stream",
     "text": [
      "with sample size of 40 in 100 trials, the probability of same birthdates is 86.0%.\n"
     ]
    }
   ],
   "source": [
    "trial(100, 40)"
   ]
  },
  {
   "cell_type": "markdown",
   "metadata": {},
   "source": [
    "### d) sample size of 50. You should expect to find shared birthdates 97% of the times. "
   ]
  },
  {
   "cell_type": "code",
   "execution_count": 27,
   "metadata": {},
   "outputs": [
    {
     "name": "stdout",
     "output_type": "stream",
     "text": [
      "with sample size of 50 in 100 trials, the probability of same birthdates is 100.0%.\n"
     ]
    }
   ],
   "source": [
    "trial(100, 50)"
   ]
  },
  {
   "cell_type": "markdown",
   "metadata": {},
   "source": [
    "### e) sample size of 60. You should expect to find shared birthdates 99% of the times."
   ]
  },
  {
   "cell_type": "code",
   "execution_count": 29,
   "metadata": {},
   "outputs": [
    {
     "name": "stdout",
     "output_type": "stream",
     "text": [
      "with sample size of 60 in 100 trials, the probability of same birthdates is 100.0%.\n"
     ]
    }
   ],
   "source": [
    "trial(100, 60)"
   ]
  }
 ],
 "metadata": {
  "kernelspec": {
   "display_name": "Python 3",
   "language": "python",
   "name": "python3"
  },
  "language_info": {
   "codemirror_mode": {
    "name": "ipython",
    "version": 3
   },
   "file_extension": ".py",
   "mimetype": "text/x-python",
   "name": "python",
   "nbconvert_exporter": "python",
   "pygments_lexer": "ipython3",
   "version": "3.8.5"
  }
 },
 "nbformat": 4,
 "nbformat_minor": 4
}
